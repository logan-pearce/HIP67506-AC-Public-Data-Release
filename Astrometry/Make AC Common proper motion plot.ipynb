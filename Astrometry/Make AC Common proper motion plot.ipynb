{
 "cells": [
  {
   "cell_type": "code",
   "execution_count": 2,
   "id": "d2faf10d",
   "metadata": {},
   "outputs": [
    {
     "data": {
      "text/plain": [
       "(array([2.45288493e+02, 2.77135065e-03]),\n",
       " array([2.41727493e+02, 2.08852972e-03]),\n",
       " array([2.55503470e+02, 3.17631799e-04]),\n",
       " array([2.55505871e+02, 2.85591225e-04]),\n",
       " array([75.84815579,  5.21837703]),\n",
       " array([90.90675992,  6.09757153]),\n",
       " 89.5,\n",
       " 89.5)"
      ]
     },
     "execution_count": 2,
     "metadata": {},
     "output_type": "execute_result"
    }
   ],
   "source": [
    "import pickle\n",
    "samples = pickle.load(open('MagAOX_companionposition_MCMC_chains_5000steps.pkl','rb'))\n",
    "xcc = np.array([np.mean(samples[1000:,:,0]),np.std(samples[1000:,:,0])])\n",
    "xcc_array = samples[1000:,:,0]\n",
    "ycc = np.array([np.mean(samples[1000:,:,1]),np.std(samples[1000:,:,1])])\n",
    "ycc_array = samples[1000:,:,1]\n",
    "\n",
    "samples = pickle.load(open('MagAOX_HIP67506Aposition_MCMC_chains.pkl','rb'))\n",
    "xca = np.array([np.mean(samples[1000:,:,0]),np.std(samples[1000:,:,0])])\n",
    "xca_array = samples[1000:,:,0]\n",
    "yca = np.array([np.mean(samples[1000:,:,1]),np.std(samples[1000:,:,1])])\n",
    "yca_array = samples[1000:,:,1]\n",
    "\n",
    "samples = pickle.load(open('2015-astrometry.pkl','rb'))\n",
    "xcc_2015 = np.array([np.mean(samples[0]),np.std(samples[0])])\n",
    "xcc_2015_array = samples[0]\n",
    "ycc_2015 = np.array([np.mean(samples[1]),np.std(samples[1])])\n",
    "ycc_2015_array = samples[1]\n",
    "\n",
    "xca_2015, yca_2015 = 89.5, 89.5\n",
    "\n",
    "xcc, ycc, xca, yca, xcc_2015, ycc_2015, xca_2015, yca_2015"
   ]
  },
  {
   "cell_type": "code",
   "execution_count": 3,
   "id": "9e503348",
   "metadata": {},
   "outputs": [
    {
     "data": {
      "text/plain": [
       "(array([-217.06432296,  -60.26836743]),\n",
       " array([8.29721948e+01, 1.64668786e-02]),\n",
       " array([ 22.3674827 , -81.29243112]),\n",
       " array([9.69513874e+01, 1.24372314e-02]))"
      ]
     },
     "execution_count": 3,
     "metadata": {},
     "output_type": "execute_result"
    }
   ],
   "source": [
    "pixscale = 15.9 #mas/pixel\n",
    "dx,dy = (xcc_2015_array-xca_2015),(ycc_2015_array-yca_2015)\n",
    "delta_obs_RA_2015 = np.mean(dx*pixscale) #mas\n",
    "delta_obs_RA_2015_err = np.std(dx*pixscale)\n",
    "\n",
    "delta_obs_Dec_2015 = np.mean(dy*pixscale) #mas\n",
    "delta_obs_Dec_2015_err = np.std(dy*pixscale)\n",
    "\n",
    "pixscale = 5.9 #mas/pixel\n",
    "dx,dy = (xcc_array-xca_array),(ycc_array-yca_array)\n",
    "delta_obs_RA_2022 = np.mean(dx*pixscale) #mas\n",
    "delta_obs_RA_2022_err = np.std(dx*pixscale)\n",
    "\n",
    "delta_obs_Dec_2022 = np.mean(dy*pixscale) #mas\n",
    "delta_obs_Dec_2022_err = np.std(dy*pixscale)\n",
    "\n",
    "delta_obs_RA = np.array([delta_obs_RA_2015,delta_obs_RA_2022])\n",
    "delta_obs_RA_err = np.array([delta_obs_RA_2015_err,delta_obs_RA_2022_err])\n",
    "delta_obs_Dec = np.array([delta_obs_Dec_2015,delta_obs_Dec_2022])\n",
    "delta_obs_Dec_err = np.array([delta_obs_Dec_2015_err,delta_obs_Dec_2022_err])\n",
    "\n",
    "delta_obs_RA,delta_obs_RA_err,delta_obs_Dec,delta_obs_Dec_err"
   ]
  },
  {
   "cell_type": "code",
   "execution_count": 4,
   "id": "5c99affd",
   "metadata": {},
   "outputs": [
    {
     "data": {
      "text/plain": [
       "{'delta RA': array([217.06432296,  60.26836743]),\n",
       " 'delta RA err': array([8.29721948e+01, 1.64668786e-02]),\n",
       " 'delta Dec': array([ 22.3674827 , -81.29243112]),\n",
       " 'delta Dec err': array([9.69513874e+01, 1.24372314e-02]),\n",
       " 'sep': array([2.39878444e+02, 1.01196520e-01]),\n",
       " 'sep err': array([7.97465564e+01, 1.36548931e-05]),\n",
       " 'pa': array([ 83.74193624, 143.4475999 ]),\n",
       " 'pa err': array([2.79020419e+01, 8.76005617e-03])}"
      ]
     },
     "execution_count": 4,
     "metadata": {},
     "output_type": "execute_result"
    }
   ],
   "source": [
    "from myastrotools.tools import physical_separation, MonteCarloIt\n",
    "\n",
    "dx,dy = (xca_2015-xcc_2015_array),(yca_2015-ycc_2015_array)\n",
    "r = np.sqrt(dx**2+dy**2) #pixels\n",
    "pixscale = 15.9 #mas/pixel\n",
    "seppix = pixscale*r\n",
    "sep_2015 = seppix\n",
    "#sep_2015 = sep_2015*u.mas.to(u.arcsec)\n",
    "pa_2015 = np.degrees(np.arctan2(dx,-dy))\n",
    "\n",
    "\n",
    "dx,dy = (xca_array-xcc_array),(yca_array-ycc_array)\n",
    "r = np.sqrt(dx**2+dy**2) #pixels\n",
    "pixscale = 5.9 #mas/pixel\n",
    "seppix = pixscale*r\n",
    "sep_2022 = seppix\n",
    "sep_2022 = sep_2022*u.mas.to(u.arcsec)\n",
    "pa_2022 = np.degrees(np.arctan2(dx,-dy))\n",
    "\n",
    "sep = np.array([ np.mean(sep_2015), np.mean(sep_2022) ])\n",
    "sep_err = np.array([ np.std(sep_2015), np.std(sep_2022) ])\n",
    "pa_deg = np.array([ np.mean(pa_2015), np.mean(pa_2022) ])\n",
    "pa_err = np.array([ np.std(pa_2015), np.std(pa_2022) ])\n",
    "sep, sep_err, pa_deg, pa_err\n",
    "\n",
    "\n",
    "out = {'delta RA':-delta_obs_RA,\n",
    "       'delta RA err':delta_obs_RA_err,\n",
    "       'delta Dec':delta_obs_Dec,\n",
    "       'delta Dec err':delta_obs_Dec_err,\n",
    "       'sep': sep,\n",
    "       'sep err': sep_err,\n",
    "       'pa':pa_deg,\n",
    "       'pa err': pa_err\n",
    "      }\n",
    "\n",
    "pickle.dump(out,open('AC_astrometry_dict.pkl','wb'))\n",
    "out"
   ]
  },
  {
   "cell_type": "code",
   "execution_count": 5,
   "id": "aba01647",
   "metadata": {},
   "outputs": [
    {
     "data": {
      "text/plain": [
       "array([2015.36164384, 2022.29863014])"
      ]
     },
     "execution_count": 5,
     "metadata": {},
     "output_type": "execute_result"
    }
   ],
   "source": [
    "from astropy.time import Time\n",
    "times = '2015-05-13T00:00:00'\n",
    "to = Time(times, format='isot', scale='utc')\n",
    "times = '2022-04-20T00:00:00'\n",
    "t = Time(times, format='isot', scale='utc')\n",
    "t = t.decimalyear\n",
    "to = to.decimalyear\n",
    "obsdate = np.array([to,t])\n",
    "obsdate"
   ]
  },
  {
   "cell_type": "code",
   "execution_count": 6,
   "id": "75fb8322",
   "metadata": {},
   "outputs": [
    {
     "name": "stdout",
     "output_type": "stream",
     "text": [
      "Created TAP+ (v1.2.1) - Connection:\n",
      "\tHost: gea.esac.esa.int\n",
      "\tUse HTTPS: True\n",
      "\tPort: 443\n",
      "\tSSL Port: 443\n",
      "Created TAP+ (v1.2.1) - Connection:\n",
      "\tHost: geadata.esac.esa.int\n",
      "\tUse HTTPS: True\n",
      "\tPort: 443\n",
      "\tSSL Port: 443\n",
      "4.512717092654476\n"
     ]
    }
   ],
   "source": [
    "# van Leeuwen 2007 Hip2 reduction:\n",
    "hipplx = np.array([11.17,3.27])\n",
    "hip_pmra = -34.55 # mas/yr\n",
    "hip_pmdec = -19.45\n",
    "hip_mag = 10.7386\n",
    "hip_BminusV = 0.743\n",
    "hip_ra = 207.49640321\n",
    "hip_dec = -43.05036556\n",
    "\n",
    "from astroquery.gaia import Gaia\n",
    "sourceid = 6109011780753115776\n",
    "cat = \"gaiadr3.gaia_source\"\n",
    "string = \"SELECT * FROM \"+cat+\" WHERE source_id = \"+str(sourceid)\n",
    "job = Gaia.launch_job(string)\n",
    "r = job.get_results()\n",
    "print(r['parallax'][0])\n",
    "gaiaplx = r['parallax'][0]\n",
    "\n",
    "from myastrotools.tools import MonteCarloIt\n",
    "dist = np.array([89.5,30])\n",
    "\n",
    "RA = hip_ra\n",
    "Dec = hip_dec\n",
    "\n",
    "bkgd_star_vel_vector = np.sqrt(hip_pmra**2+hip_pmdec**2)"
   ]
  },
  {
   "cell_type": "code",
   "execution_count": 7,
   "id": "15544507",
   "metadata": {
    "scrolled": false
   },
   "outputs": [
    {
     "name": "stderr",
     "output_type": "stream",
     "text": [
      "/Users/loganpearce/anaconda3/lib/python3.7/site-packages/erfa/core.py:155: ErfaWarning: ERFA function \"taiutc\" yielded 18 of \"dubious year (Note 4)\"\n",
      "  ErfaWarning)\n"
     ]
    },
    {
     "data": {
      "image/png": "[encoded data removed]",
      "text/plain": [
       "<Figure size 720x576 with 1 Axes>"
      ]
     },
     "metadata": {
      "needs_background": "light"
     },
     "output_type": "display_data"
    }
   ],
   "source": [
    "from astropy.time import Time\n",
    "from astropy.coordinates import SkyCoord, GeocentricTrueEcliptic\n",
    "from myastrotools.tools import ecliptic_to_equatorial\n",
    "from cycler import cycler\n",
    "\n",
    "%matplotlib inline\n",
    "import matplotlib as mpl\n",
    "import matplotlib.pyplot as plt\n",
    "\n",
    "# Ref epoch:\n",
    "ref_index = 0\n",
    "ref_date = Time(obsdate[ref_index],format='decimalyear',scale='utc')\n",
    "\n",
    "\n",
    "ref_RA_offset = delta_obs_RA[ref_index]\n",
    "ref_Dec_offset = delta_obs_Dec[ref_index]\n",
    "\n",
    "time_interval=[5,12]\n",
    "\n",
    "marker_size = [600,300]\n",
    "label_offset = [100,-15]\n",
    "labelsize = 25\n",
    "#plt_style = 'magrathea',\n",
    "plt_style = 'magrathea_bold'\n",
    "\n",
    "# Color cycler:\n",
    "n = 8\n",
    "plt.rcParams[\"axes.prop_cycle\"] = plt.cycler(\"color\", plt.cm.jet(np.linspace(0,1,n)))\n",
    "colors = ['purple','darkorange']\n",
    "labels=np.round(obsdate,decimals=1)\n",
    "\n",
    "n_times = 800\n",
    "xlabel = r'$\\Delta$ RA (mas)'\n",
    "ylabel = r'$\\Delta$ Dec (mas)'\n",
    "marker = [\"d\",'o']\n",
    "fontsize = 20\n",
    "tick_labelsize = 25\n",
    "alpha=0.5\n",
    "figsize = (10,8)\n",
    "write_to_file = False\n",
    "output_name = 'cpm.pdf'\n",
    "form = 'pdf'\n",
    "plt_xlim=None\n",
    "plt_ylim=None\n",
    "\n",
    "\n",
    "parallax, parallax_error = [gaiaplx,r['parallax_error'][0]]\n",
    "pmRA = -hip_pmra\n",
    "pmDec = -hip_pmdec\n",
    "\n",
    "\n",
    "\n",
    "plt.style.use(plt_style)\n",
    "deg_to_mas = 3600000.\n",
    "mas_to_deg = 1./3600000.\n",
    "############### Compute track: ###################\n",
    "# Define a time span around reference date:\n",
    "delta_time = np.linspace(-time_interval[0], time_interval[1], n_times)*u.yr\n",
    "times = ref_date + delta_time\n",
    "\n",
    "# Compute change in RA/Dec during time interval due to proper motion only:\n",
    "dRA, dDec = (pmRA)*(delta_time.value), (pmDec)*(delta_time.value)\n",
    "\n",
    "# Compute motion in the ecliptic coords due to parallactic motion:\n",
    "# Make a sky coord object in RA/Dec:\n",
    "obj = SkyCoord(ra = RA, dec = Dec, frame='icrs', unit='deg'#, obstime = 'J2015.5'\n",
    "              ) \n",
    "# Convert to ecliptic lon/lat:\n",
    "gteframe = GeocentricTrueEcliptic()\n",
    "obj_ecl = obj.transform_to(gteframe)\n",
    "\n",
    "# Angle array during a year:\n",
    "theta = (delta_time.value%1)*2*np.pi\n",
    "#Parallel to ecliptic:\n",
    "x = parallax*np.sin(theta)  \n",
    "#Perp to ecliptic\n",
    "y = parallax*np.sin(obj_ecl.lat.rad)*np.cos(theta)\n",
    "\n",
    "# Compute ecliptic motion to equatorial motion:\n",
    "new_RA, new_Dec = ecliptic_to_equatorial(obj_ecl.lon.deg+x*mas_to_deg, \\\n",
    "                                       obj_ecl.lat.deg+y*mas_to_deg)\n",
    "from astropy.coordinates import SkyCoord\n",
    "maxecl_lon = np.max(obj_ecl.lon.deg+x*mas_to_deg)\n",
    "maxecl_lat = np.max(obj_ecl.lat.deg+y*mas_to_deg)\n",
    "obj2 = SkyCoord(lon = maxecl_lon,\\\n",
    "                    lat = maxecl_lat, \\\n",
    "                    frame='geocentrictrueecliptic', unit='deg')\n",
    "obj2 = obj2.transform_to('icrs')\n",
    "\n",
    "\n",
    "# Compute change in RA/Dec for each time point in mas:\n",
    "delta_RA, delta_Dec = (new_RA-RA)*deg_to_mas,(new_Dec-Dec)*deg_to_mas\n",
    "\n",
    "#Put it together:\n",
    "dRA_total = delta_RA + dRA + ref_RA_offset\n",
    "dDec_total = delta_Dec + dDec + ref_Dec_offset\n",
    "\n",
    "############# Compute prediction: #############\n",
    "### Where the object would have been observed were it a background object\n",
    "\n",
    "# Compute how far into each year the observation occured:\n",
    "pred_time_delta = (obsdate - np.floor(obsdate))\n",
    "pred_theta = (pred_time_delta)*2*np.pi\n",
    "\n",
    "# Compute ecliptic motion:\n",
    "pred_x = parallax*np.sin(pred_theta)  #Parallel to ecliptic\n",
    "pred_y = parallax*np.sin(obj_ecl.lat.rad)*np.cos(pred_theta)  #Perp to ecliptic\n",
    "\n",
    "# Convert to RA/Dec:\n",
    "pred_new_RA, pred_new_Dec = ecliptic_to_equatorial(obj_ecl.lon.deg+pred_x*mas_to_deg, \\\n",
    "                                       obj_ecl.lat.deg+pred_y*mas_to_deg)\n",
    "pred_delta_RA, pred_delta_Dec = (pred_new_RA-RA)*deg_to_mas,(pred_new_Dec-Dec)*deg_to_mas\n",
    "\n",
    "# Compute location due to proper motion:\n",
    "pred_dRA, pred_dDec = (pmRA)*(obsdate-ref_date.value), (pmDec)*(obsdate-ref_date.value)\n",
    "\n",
    "# Put it together:\n",
    "pred_dRA_total = -pred_delta_RA + pred_dRA + ref_RA_offset\n",
    "pred_dDec_total = -pred_delta_Dec + pred_dDec + ref_Dec_offset\n",
    "\n",
    "\n",
    "#################### Draw plot: #################\n",
    "plt.rcParams['ytick.labelsize'] = tick_labelsize\n",
    "plt.rcParams['xtick.labelsize'] = tick_labelsize\n",
    "custom_cycler = (cycler(color=colors))\n",
    "fig = plt.figure(figsize = figsize)\n",
    "\n",
    "plt.plot(-dRA_total,dDec_total, zorder = 1, color='black', lw=1.5, label=r'EDR3 $\\mu$+$\\pi$, A')\n",
    "#plt.arrow(267,221,65*2,50*2, head_width = 10, lw=1.5)\n",
    "plt.gca().set_prop_cycle(custom_cycler)\n",
    "\n",
    "triangleoffsets_ra = [10,4,0,0,0,0,0]\n",
    "triangleoffsets_dec = [-2,-2,0,0,0,0,0]\n",
    "\n",
    "labeloffsets_ra = [-10,0,-20,-30,-20,120,120]\n",
    "labeloffsets_dec = [20,20,-40,-20,-15,-15,10]\n",
    "\n",
    "for i in range(len(pred_dRA)):\n",
    "    if i == 1:\n",
    "        plt.scatter(-pred_dRA_total[i]+triangleoffsets_ra[i], pred_dDec_total[i]+triangleoffsets_dec[i], \n",
    "                    marker = marker[0], s=marker_size[0], zorder=2, linewidths=3, facecolors='None',\n",
    "                   edgecolors=colors[i])\n",
    "    plt.annotate(\n",
    "        labels[i],\n",
    "        xy=(-pred_dRA_total[i]+triangleoffsets_ra[i], pred_dDec_total[i]+triangleoffsets_dec[i]), \n",
    "            xytext=(labeloffsets_ra[i], labeloffsets_dec[i]),\n",
    "        textcoords='offset points', ha='right', va='bottom', fontsize=25, color=colors[i]\n",
    "    )\n",
    "for i in range(len(delta_obs_RA)):\n",
    "    plt.scatter(-delta_obs_RA[i]+14,delta_obs_Dec[i]-3, marker = marker[1], s=marker_size[1], \\\n",
    "                    alpha=alpha, zorder = 10)\n",
    "    plt.errorbar(-delta_obs_RA[i]+14,delta_obs_Dec[i]-3, xerr =  delta_obs_RA_err[i], yerr = delta_obs_Dec_err[i],\n",
    "                    alpha=alpha, zorder = 10, ls='None')\n",
    "    \n",
    "i = 1\n",
    "plt.plot([-delta_obs_RA[i]+14, -pred_dRA_total[i]+triangleoffsets_ra[i]],\n",
    "         [delta_obs_Dec[i], pred_dDec_total[i]+triangleoffsets_dec[i]], color='gray', ls=':', lw=3\n",
    "        )\n",
    "    \n",
    "\n",
    "\n",
    "if plt_xlim != None:\n",
    "    plt.xlim(plt_xlim[0],plt_xlim[1])\n",
    "if plt_ylim != None:\n",
    "    plt.ylim(plt_ylim[0],plt_ylim[1])\n",
    "plt.ylim(bottom = -150)\n",
    "plt.xlabel(xlabel, fontsize = 30)\n",
    "plt.xticks(rotation=45)\n",
    "plt.ylabel(ylabel, fontsize = 30)\n",
    "plt.gca().invert_xaxis()\n",
    "plt.gca().set_aspect('equal')\n",
    "plt.grid(ls=':')\n",
    "    \n",
    "\n",
    "plt.tight_layout()\n",
    "\n",
    "#plt.savefig('AC_common_proper_motion_plot.png')\n",
    "plt.show()\n"
   ]
  },
  {
   "cell_type": "code",
   "execution_count": null,
   "id": "6a6a3cc8",
   "metadata": {},
   "outputs": [],
   "source": []
  }
 ],
 "metadata": {
  "kernelspec": {
   "display_name": "Python 3.7.2 64-bit ('base': conda)",
   "language": "python",
   "name": "python3"
  },
  "language_info": {
   "codemirror_mode": {
    "name": "ipython",
    "version": 3
   },
   "file_extension": ".py",
   "mimetype": "text/x-python",
   "name": "python",
   "nbconvert_exporter": "python",
   "pygments_lexer": "ipython3",
   "version": "3.7.2"
  },
  "vscode": {
   "interpreter": {
    "hash": "d89add2ac711ee9b421bb78841d799cce7135b773c3fe7214f9de02f07356cb0"
   }
  }
 },
 "nbformat": 4,
 "nbformat_minor": 5
}
