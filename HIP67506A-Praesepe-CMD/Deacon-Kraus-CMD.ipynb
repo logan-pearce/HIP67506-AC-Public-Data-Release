{
 "cells": [
  {
   "cell_type": "code",
   "execution_count": 2,
   "id": "2274d3d0",
   "metadata": {},
   "outputs": [
    {
     "data": {
      "text/plain": [
       "FITS_rec([(248837490169366656, 'Alpha Per',  52.91936231, 46.92371128,  21.98775712, 0.06918822, -25.05577222, 0.06181112, 5.54563119, 0.03460703, 13.487322, 0.68789497, 0.999031, 0., 0.),\n",
       "          (248859411682163712, 'Alpha Per',  53.19183858, 47.01985447,  22.06744725, 0.36837682, -25.56873161, 0.36663003, 5.68009491, 0.18179409, 18.331987, 0.18281175, 0.989942, 0., 0.),\n",
       "          (248840238948148608, 'Alpha Per',  53.08065802, 47.07404264,  22.56026732, 0.06926326, -24.98370098, 0.06159349, 5.66215209, 0.03624985, 12.096901, 0.88507339, 0.997475, 0., 0.),\n",
       "          ...,\n",
       "          (662775266942252544, 'Praesepe', 129.06714871, 19.37789906, -37.17667893, 0.38476767, -13.76504307, 0.22758473, 5.14017702, 0.26894277, 17.83258 , 0.1720031 , 0.98484 , 0., 0.),\n",
       "          (662776576909207168, 'Praesepe', 129.01367776, 19.4246006 , -35.2717938 , 0.27227929, -12.42245901, 0.1619032 , 5.29457015, 0.18966378, 17.598343, 0.18454227, 0.997909, 0., 0.),\n",
       "          (611392545955918464, 'Praesepe', 133.67277733, 16.14135479, -38.8527254 , 0.82013802, -10.30192848, 0.60083501, 4.67661887, 0.47143269, 19.557838, 0.09891302, 0.67858 , 0., 0.)],\n",
       "         dtype=(numpy.record, [('source_id', '>i8'), ('Cluster', 'S9'), ('ra', '>f8'), ('dec', '>f8'), ('pmra', '>f8'), ('pmra_error', '>f8'), ('pmdec', '>f8'), ('pmdec_error', '>f8'), ('parallax', '>f8'), ('parallax_error', '>f8'), ('phot_g_mean_mag', '>f4'), ('mass', '>f8'), ('p_memb', '>f8'), ('ruwe_flag', '>f8'), ('overluminous_flag', '>f8')]))"
      ]
     },
     "execution_count": 2,
     "metadata": {},
     "output_type": "execute_result"
    }
   ],
   "source": [
    "from astropy.io import fits\n",
    "import numpy as np\n",
    "members = fits.open('Deacon-Kraus-2020-Table4.fits')[1].data\n",
    "members"
   ]
  },
  {
   "cell_type": "code",
   "execution_count": 3,
   "id": "3f5ac555",
   "metadata": {},
   "outputs": [
    {
     "data": {
      "text/plain": [
       "1181"
      ]
     },
     "execution_count": 3,
     "metadata": {},
     "output_type": "execute_result"
    }
   ],
   "source": [
    "praesepe = members[np.where(members['Cluster'] == 'Praesepe')]\n",
    "len(praesepe)"
   ]
  },
  {
   "cell_type": "code",
   "execution_count": 5,
   "id": "90c4b309",
   "metadata": {},
   "outputs": [],
   "source": [
    "def update_progress(n,max_value):\n",
    "    ''' Create a progress bar\n",
    "    \n",
    "    Args:\n",
    "        n (int): current count\n",
    "        max_value (int): ultimate values\n",
    "    \n",
    "    '''\n",
    "    import sys\n",
    "    barLength = 20 # Modify this to change the length of the progress bar\n",
    "    status = \"\"\n",
    "    progress = np.round(float(n/max_value),decimals=2)\n",
    "    if isinstance(progress, int):\n",
    "        progress = float(progress)\n",
    "    if not isinstance(progress, float):\n",
    "        progress = 0\n",
    "        status = \"error: progress var must be float\\r\\n\"\n",
    "    if progress < 0:\n",
    "        progress = 0\n",
    "        status = \"Halt...\\r\\n\"\n",
    "    #if progress >= 1.:\n",
    "    #    progress = 1\n",
    "    #    status = \"Done...\\r\\n\"\n",
    "    if n == max_value:\n",
    "        progress = 1\n",
    "        status = \"Done...\\r\\n\"\n",
    "    block = int(round(barLength*progress))\n",
    "    text = \"\\r{0}% ({1} of {2}): |{3}|  {4}\".format(np.round(progress*100,decimals=1), \n",
    "                                                  n, \n",
    "                                                  max_value, \n",
    "                                                  \"#\"*block + \"-\"*(barLength-block), \n",
    "                                                  status)\n",
    "    sys.stdout.write(text)\n",
    "    sys.stdout.flush()"
   ]
  },
  {
   "cell_type": "markdown",
   "id": "c0128840",
   "metadata": {},
   "source": [
    "### The following cells take a long time to run, their outputs are loaded below."
   ]
  },
  {
   "cell_type": "code",
   "execution_count": 6,
   "id": "7709484f",
   "metadata": {},
   "outputs": [
    {
     "name": "stdout",
     "output_type": "stream",
     "text": [
      "14.0% (166 of 1181): |###-----------------|  "
     ]
    },
    {
     "name": "stderr",
     "output_type": "stream",
     "text": [
      "/Users/loganpearce/anaconda3/lib/python3.7/site-packages/ipykernel_launcher.py:11: UserWarning: Warning: converting a masked element to nan.\n",
      "  # This is added back by InteractiveShellApp.init_path()\n"
     ]
    },
    {
     "name": "stdout",
     "output_type": "stream",
     "text": [
      "43.0% (503 of 1181): |#########-----------|  "
     ]
    },
    {
     "name": "stderr",
     "output_type": "stream",
     "text": [
      "/Users/loganpearce/anaconda3/lib/python3.7/site-packages/ipykernel_launcher.py:11: UserWarning: Warning: converting a masked element to nan.\n",
      "  # This is added back by InteractiveShellApp.init_path()\n"
     ]
    },
    {
     "name": "stdout",
     "output_type": "stream",
     "text": [
      "45.0% (533 of 1181): |#########-----------|  "
     ]
    },
    {
     "name": "stderr",
     "output_type": "stream",
     "text": [
      "/Users/loganpearce/anaconda3/lib/python3.7/site-packages/ipykernel_launcher.py:11: UserWarning: Warning: converting a masked element to nan.\n",
      "  # This is added back by InteractiveShellApp.init_path()\n"
     ]
    },
    {
     "name": "stdout",
     "output_type": "stream",
     "text": [
      "61.0% (721 of 1181): |############--------|  "
     ]
    },
    {
     "name": "stderr",
     "output_type": "stream",
     "text": [
      "/Users/loganpearce/anaconda3/lib/python3.7/site-packages/ipykernel_launcher.py:11: UserWarning: Warning: converting a masked element to nan.\n",
      "  # This is added back by InteractiveShellApp.init_path()\n"
     ]
    },
    {
     "name": "stdout",
     "output_type": "stream",
     "text": [
      "63.0% (742 of 1181): |#############-------|  "
     ]
    },
    {
     "name": "stderr",
     "output_type": "stream",
     "text": [
      "/Users/loganpearce/anaconda3/lib/python3.7/site-packages/ipykernel_launcher.py:11: UserWarning: Warning: converting a masked element to nan.\n",
      "  # This is added back by InteractiveShellApp.init_path()\n"
     ]
    },
    {
     "name": "stdout",
     "output_type": "stream",
     "text": [
      "64.0% (751 of 1181): |#############-------|  "
     ]
    },
    {
     "name": "stderr",
     "output_type": "stream",
     "text": [
      "/Users/loganpearce/anaconda3/lib/python3.7/site-packages/ipykernel_launcher.py:11: UserWarning: Warning: converting a masked element to nan.\n",
      "  # This is added back by InteractiveShellApp.init_path()\n"
     ]
    },
    {
     "name": "stdout",
     "output_type": "stream",
     "text": [
      "79.0% (935 of 1181): |################----|  "
     ]
    },
    {
     "name": "stderr",
     "output_type": "stream",
     "text": [
      "/Users/loganpearce/anaconda3/lib/python3.7/site-packages/ipykernel_launcher.py:11: UserWarning: Warning: converting a masked element to nan.\n",
      "  # This is added back by InteractiveShellApp.init_path()\n"
     ]
    },
    {
     "name": "stdout",
     "output_type": "stream",
     "text": [
      "93.0% (1097 of 1181): |###################-|  "
     ]
    },
    {
     "name": "stderr",
     "output_type": "stream",
     "text": [
      "/Users/loganpearce/anaconda3/lib/python3.7/site-packages/ipykernel_launcher.py:11: UserWarning: Warning: converting a masked element to nan.\n",
      "  # This is added back by InteractiveShellApp.init_path()\n"
     ]
    },
    {
     "name": "stdout",
     "output_type": "stream",
     "text": [
      "100.0% (1180 of 1181): |####################|  "
     ]
    }
   ],
   "source": [
    "'''bprp = np.zeros(len(praesepe))\n",
    "\n",
    "# Get gaia colors:\n",
    "from astroquery.gaia import Gaia\n",
    "\n",
    "for i in range(len(praesepe)):\n",
    "    cat = \"gaiadr3.gaia_source\"\n",
    "    string = \"SELECT * FROM \"+cat+\" WHERE source_id = \"+str(praesepe['source_id'][i])\n",
    "    job = Gaia.launch_job(string)\n",
    "    r = job.get_results()\n",
    "    try:\n",
    "        bprp[i] = r['bp_rp']\n",
    "    except:\n",
    "        bprp[i] = np.nan\n",
    "    update_progress(i,len(praesepe))'''\n"
   ]
  },
  {
   "cell_type": "code",
   "execution_count": 7,
   "id": "3160d422",
   "metadata": {},
   "outputs": [
    {
     "name": "stdout",
     "output_type": "stream",
     "text": [
      "100.0% (1180 of 1181): |####################|  "
     ]
    },
    {
     "data": {
      "text/plain": [
       "array([ 8.75616017, 10.97757336, 12.52232321, ..., 11.38747094,\n",
       "       11.21749643, 12.90749833])"
      ]
     },
     "execution_count": 7,
     "metadata": {},
     "output_type": "execute_result"
    }
   ],
   "source": [
    "'''# Get abs G mag:\n",
    "GMag = np.zeros(len(praesepe))\n",
    "\n",
    "for i in range(len(praesepe)):\n",
    "    GMag[i] = praesepe['phot_g_mean_mag'][i] - 5*np.log10(1000/praesepe['parallax'][i]) + 5\n",
    "    update_progress(i,len(praesepe))\n",
    "GMag'''"
   ]
  },
  {
   "cell_type": "code",
   "execution_count": 8,
   "id": "12f52cc6",
   "metadata": {},
   "outputs": [],
   "source": [
    "'''ol = np.where(praesepe['overluminous_flag'] == 1.)\n",
    "an = np.where(praesepe['ruwe_flag'] == 1.)'''"
   ]
  },
  {
   "cell_type": "code",
   "execution_count": 10,
   "id": "e9a17731",
   "metadata": {},
   "outputs": [],
   "source": [
    "'''from astroquery.gaia import Gaia\n",
    "sourceid = 6109011780753115776\n",
    "cat = \"gaiadr3.gaia_source\"\n",
    "string = \"SELECT * FROM \"+cat+\" WHERE source_id = \"+str(sourceid)\n",
    "job = Gaia.launch_job(string)\n",
    "r = job.get_results()\n",
    "HIP67506_GMag = r['phot_g_mean_mag'][0] - 5*np.log10(1000/r['parallax'][0]) + 5\n",
    "HIP67506_bprp = r['bp_rp'][0]'''"
   ]
  },
  {
   "cell_type": "code",
   "execution_count": 8,
   "id": "69220a51",
   "metadata": {},
   "outputs": [],
   "source": [
    "#import pickle\n",
    "#pickle.dump([bprp, GMag, ol, an, HIP67506_GMag, HIP67506_bprp], open('praesepe_cmd_data.pkl','wb'))"
   ]
  },
  {
   "cell_type": "code",
   "execution_count": 12,
   "id": "2b89c58a",
   "metadata": {},
   "outputs": [],
   "source": [
    "bprp, GMag, ol, an, HIP67506_GMag, HIP67506_bprp = pickle.load(open('praesepe_cmd_data.pkl','rb'))"
   ]
  },
  {
   "cell_type": "code",
   "execution_count": 13,
   "id": "4765ab4f",
   "metadata": {},
   "outputs": [
    {
     "data": {
      "image/png": "[encoded data removed]",
      "text/plain": [
       "<Figure size 432x576 with 1 Axes>"
      ]
     },
     "metadata": {
      "needs_background": "light"
     },
     "output_type": "display_data"
    }
   ],
   "source": [
    "%matplotlib inline\n",
    "plt.figure(figsize=(6,8))\n",
    "plt.plot(bprp, GMag, marker=\".\", ls='None',markersize=1.5, color='orange')\n",
    "plt.scatter(bprp[ol], GMag[ol], marker=\"^\", ls='None',s=15, facecolors='None',edgecolors='blue')\n",
    "plt.scatter(bprp[an], GMag[an], marker=\"v\", ls='None',s=15, facecolors='None',edgecolors='purple')\n",
    "plt.scatter(HIP67506_bprp,HIP67506_GMag, marker='*', color='crimson', s=400, alpha = 0.5, label='HIP 67506 A')\n",
    "plt.scatter(HIP67506_bprp,HIP67506_GMag, marker='*', edgecolors='crimson', s=400, facecolors='None')\n",
    "plt.gca().invert_yaxis()\n",
    "plt.xlim(-1,4)\n",
    "plt.xlabel('BP-RP [mag]')\n",
    "plt.ylabel('Abs G Mag')\n",
    "plt.grid(ls=':')\n",
    "plt.legend(loc='lower left', fontsize=20)\n",
    "\n",
    "######################## inset axes #######\n",
    "ax = plt.gca()\n",
    "axins = ax.inset_axes([0.75, 0.6, 0.5, 0.37])\n",
    "\n",
    "axins.plot(bprp, GMag, marker=\".\", ls='None',markersize=5, color='orange')\n",
    "axins.scatter(bprp[ol], GMag[ol], marker=\"^\", ls='None',s=40, facecolors='None',edgecolors='blue',zorder=10)\n",
    "axins.scatter(bprp[an], GMag[an], marker=\"v\", ls='None',s=40, facecolors='None',edgecolors='purple',zorder=10)\n",
    "axins.scatter(HIP67506_bprp,HIP67506_GMag, marker='*', color='crimson', s=300, alpha = 0.5)\n",
    "axins.scatter(HIP67506_bprp,HIP67506_GMag, marker='*', edgecolors='crimson', s=300, facecolors='None')\n",
    "\n",
    "axins.set_xlim(0.6,1.0)\n",
    "axins.set_ylim(3.6,4.4)\n",
    "axins.invert_yaxis()\n",
    "axins.grid(ls=':')\n",
    "\n",
    "plt.tight_layout()\n",
    "#plt.savefig('praesepe_CMD.png',dpi=300,bbox_inches='tight')"
   ]
  },
  {
   "cell_type": "code",
   "execution_count": null,
   "id": "32456f22",
   "metadata": {},
   "outputs": [],
   "source": []
  }
 ],
 "metadata": {
  "kernelspec": {
   "display_name": "Python 3.7.2 64-bit ('base': conda)",
   "language": "python",
   "name": "python3"
  },
  "language_info": {
   "codemirror_mode": {
    "name": "ipython",
    "version": 3
   },
   "file_extension": ".py",
   "mimetype": "text/x-python",
   "name": "python",
   "nbconvert_exporter": "python",
   "pygments_lexer": "ipython3",
   "version": "3.7.2"
  },
  "vscode": {
   "interpreter": {
    "hash": "d89add2ac711ee9b421bb78841d799cce7135b773c3fe7214f9de02f07356cb0"
   }
  }
 },
 "nbformat": 4,
 "nbformat_minor": 5
}
